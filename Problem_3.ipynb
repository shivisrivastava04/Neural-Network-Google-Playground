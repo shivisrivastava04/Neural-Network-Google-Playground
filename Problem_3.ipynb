{
  "nbformat": 4,
  "nbformat_minor": 0,
  "metadata": {
    "accelerator": "GPU",
    "colab": {
      "name": "Problem 3.ipynb",
      "provenance": [],
      "collapsed_sections": []
    },
    "kernelspec": {
      "display_name": "Python 3",
      "name": "python3"
    }
  },
  "cells": [
    {
      "cell_type": "code",
      "metadata": {
        "id": "lJ1-7MF-4gO0"
      },
      "source": [
        "import tensorflow as tf\r\n",
        "from tensorflow import keras\r\n",
        "from tensorflow.keras.models import Sequential\r\n",
        "from tensorflow.keras.layers import Dense,Dropout,Input\r\n",
        "import numpy as np\r\n",
        "import matplotlib.pyplot as plt\r\n",
        "import pandas as pd\r\n"
      ],
      "execution_count": null,
      "outputs": []
    },
    {
      "cell_type": "code",
      "metadata": {
        "colab": {
          "base_uri": "https://localhost:8080/"
        },
        "id": "H9QEV-OKR63W",
        "outputId": "2cbd9ebb-3804-4522-9a82-fa06cc3c5271"
      },
      "source": [
        "# Downloading the data using wget, so that there is no dependency on maintaining the file externally\r\n",
        "\r\n",
        "def load_spam_data():\r\n",
        "      global x_test, y_test, x_final_train, y_final_train,x_final_val,y_final_val\r\n",
        "      !wget https://archive.ics.uci.edu/ml/machine-learning-databases/spambase/spambase.data\r\n",
        "      #header= None so as to give proper headers\r\n",
        "      # using pandas library to read the csv, all '?' to be replaced with NaN  \r\n",
        "      df = pd.read_csv('spambase.data', header=None,na_values=['?'])\r\n",
        "      print(df.head())\r\n",
        "\r\n",
        "      #Normallizing the databetween 0 and 1 using min-max\r\n",
        "      df=(df-df.min())/(df.max()-df.min())\r\n",
        "      print(df.head())\r\n",
        "      x, y = df.iloc[:, :57].values, df.iloc[:, 57].values\r\n",
        "      \r\n",
        "      #Splitting the training and testing data as specified in question\r\n",
        "      x_train =x[:4000]\r\n",
        "      x_test = x[4000:]\r\n",
        "      y_train =y[:4000]\r\n",
        "      y_test =y[4000:]\r\n",
        "      #splitting in training and validation subset\r\n",
        "      x_final_train =x_train[:3500]\r\n",
        "      x_final_val = x_train[3500:]\r\n",
        "\r\n",
        "      y_final_train=y_train[:3500]\r\n",
        "      y_final_val=y_train[3500:]\r\n",
        "      \r\n",
        "      print(x_final_train.dtype)\r\n",
        "      #It is most common to use 32-bit precision when training a neural network,converted to 32 bit floats. Since the dataset fits easily in RAM.\r\n",
        "      x_final_train = x_final_train.astype('float32')\r\n",
        "      x_test = x_test.astype('float32')\r\n",
        "      x_final_val=x_final_val.astype('float32')\r\n",
        "      #x_train/=255.0\r\n",
        "      #x_test/=255.0\r\n",
        "      print('training set',x_final_train.shape)\r\n",
        "      print('validation set',x_final_val.shape)\r\n",
        "      print('test set',x_test.shape)\r\n",
        "      \r\n",
        "\r\n",
        "load_spam_data()"
      ],
      "execution_count": null,
      "outputs": [
        {
          "output_type": "stream",
          "text": [
            "--2021-02-16 22:55:03--  https://archive.ics.uci.edu/ml/machine-learning-databases/spambase/spambase.data\n",
            "Resolving archive.ics.uci.edu (archive.ics.uci.edu)... 128.195.10.252\n",
            "Connecting to archive.ics.uci.edu (archive.ics.uci.edu)|128.195.10.252|:443... connected.\n",
            "HTTP request sent, awaiting response... 200 OK\n",
            "Length: 702942 (686K) [application/x-httpd-php]\n",
            "Saving to: ‘spambase.data.19’\n",
            "\n",
            "spambase.data.19    100%[===================>] 686.47K  2.49MB/s    in 0.3s    \n",
            "\n",
            "2021-02-16 22:55:04 (2.49 MB/s) - ‘spambase.data.19’ saved [702942/702942]\n",
            "\n",
            "     0     1     2    3     4     5   ...     52     53     54   55    56  57\n",
            "0  0.00  0.64  0.64  0.0  0.32  0.00  ...  0.000  0.000  3.756   61   278   1\n",
            "1  0.21  0.28  0.50  0.0  0.14  0.28  ...  0.180  0.048  5.114  101  1028   1\n",
            "2  0.06  0.00  0.71  0.0  1.23  0.19  ...  0.184  0.010  9.821  485  2259   1\n",
            "3  0.00  0.00  0.00  0.0  0.63  0.00  ...  0.000  0.000  3.537   40   191   1\n",
            "4  0.00  0.00  0.00  0.0  0.63  0.00  ...  0.000  0.000  3.537   40   191   1\n",
            "\n",
            "[5 rows x 58 columns]\n",
            "         0         1         2    3   ...        54        55        56   57\n",
            "0  0.000000  0.044818  0.125490  0.0  ...  0.002502  0.006007  0.017487  1.0\n",
            "1  0.046256  0.019608  0.098039  0.0  ...  0.003735  0.010012  0.064836  1.0\n",
            "2  0.013216  0.000000  0.139216  0.0  ...  0.008008  0.048458  0.142551  1.0\n",
            "3  0.000000  0.000000  0.000000  0.0  ...  0.002303  0.003905  0.011995  1.0\n",
            "4  0.000000  0.000000  0.000000  0.0  ...  0.002303  0.003905  0.011995  1.0\n",
            "\n",
            "[5 rows x 58 columns]\n",
            "float64\n",
            "training set (3500, 57)\n",
            "validation set (500, 57)\n",
            "test set (601, 57)\n"
          ],
          "name": "stdout"
        }
      ]
    },
    {
      "cell_type": "code",
      "metadata": {
        "colab": {
          "base_uri": "https://localhost:8080/"
        },
        "id": "KZgsx-3i4vGu",
        "outputId": "1e023707-ff7f-44e6-8eb1-5447363ccb92"
      },
      "source": [
        "model= Sequential()\r\n",
        "model.add(Dense(units=35,activation='linear',input_shape=(57,)))\r\n",
        "#model.add(Dropout(0.5))\r\n",
        "#model.add(Dense(units=3))\r\n",
        "model.add(Dense(units=1,activation='sigmoid'))\r\n",
        "model.summary()"
      ],
      "execution_count": null,
      "outputs": [
        {
          "output_type": "stream",
          "text": [
            "Model: \"sequential_26\"\n",
            "_________________________________________________________________\n",
            "Layer (type)                 Output Shape              Param #   \n",
            "=================================================================\n",
            "dense_53 (Dense)             (None, 35)                2030      \n",
            "_________________________________________________________________\n",
            "dense_54 (Dense)             (None, 1)                 36        \n",
            "=================================================================\n",
            "Total params: 2,066\n",
            "Trainable params: 2,066\n",
            "Non-trainable params: 0\n",
            "_________________________________________________________________\n"
          ],
          "name": "stdout"
        }
      ]
    },
    {
      "cell_type": "code",
      "metadata": {
        "id": "-TMj1aXF43PF",
        "colab": {
          "base_uri": "https://localhost:8080/",
          "height": 370
        },
        "outputId": "6940c90d-9d93-4d7f-d374-f3ec76e1df95"
      },
      "source": [
        "opt=keras.optimizers.Adam(\r\n",
        "    learning_rate=0.003,\r\n",
        "    #initial_accumulator_value=,\r\n",
        "    epsilon=1e-07,\r\n",
        "    name=\"Adam\"\r\n",
        ")\r\n",
        "#uding binary because outcome will be 0 or 1\r\n",
        "model.compile(loss='binary_crossentropy',\r\n",
        "              optimizer=opt,\r\n",
        "              metrics=[tf.keras.metrics.BinaryAccuracy()])\r\n",
        "#model.compile(loss=\"categorical_crossentropy\", optimizer=opt, metrics=[\"categorical_accuracy\"])"
      ],
      "execution_count": null,
      "outputs": [
        {
          "output_type": "error",
          "ename": "TypeError",
          "evalue": "ignored",
          "traceback": [
            "\u001b[0;31m---------------------------------------------------------------------------\u001b[0m",
            "\u001b[0;31mTypeError\u001b[0m                                 Traceback (most recent call last)",
            "\u001b[0;32m<ipython-input-193-6cb2ad4078be>\u001b[0m in \u001b[0;36m<module>\u001b[0;34m()\u001b[0m\n\u001b[1;32m      9\u001b[0m               \u001b[0moptimizer\u001b[0m\u001b[0;34m=\u001b[0m\u001b[0mopt\u001b[0m\u001b[0;34m,\u001b[0m\u001b[0;34m\u001b[0m\u001b[0;34m\u001b[0m\u001b[0m\n\u001b[1;32m     10\u001b[0m               \u001b[0mbatch_size\u001b[0m\u001b[0;34m=\u001b[0m\u001b[0;36m10\u001b[0m\u001b[0;34m,\u001b[0m\u001b[0;34m\u001b[0m\u001b[0;34m\u001b[0m\u001b[0m\n\u001b[0;32m---> 11\u001b[0;31m               metrics=[tf.keras.metrics.BinaryAccuracy()])\n\u001b[0m\u001b[1;32m     12\u001b[0m \u001b[0;31m#model.compile(loss=\"categorical_crossentropy\", optimizer=opt, metrics=[\"categorical_accuracy\"])\u001b[0m\u001b[0;34m\u001b[0m\u001b[0;34m\u001b[0m\u001b[0;34m\u001b[0m\u001b[0m\n",
            "\u001b[0;32m/usr/local/lib/python3.6/dist-packages/tensorflow/python/keras/engine/training.py\u001b[0m in \u001b[0;36mcompile\u001b[0;34m(self, optimizer, loss, metrics, loss_weights, weighted_metrics, run_eagerly, steps_per_execution, **kwargs)\u001b[0m\n\u001b[1;32m    532\u001b[0m           \u001b[0msteps_per_execution\u001b[0m \u001b[0;34m=\u001b[0m \u001b[0mkwargs\u001b[0m\u001b[0;34m.\u001b[0m\u001b[0mpop\u001b[0m\u001b[0;34m(\u001b[0m\u001b[0;34m'experimental_steps_per_execution'\u001b[0m\u001b[0;34m)\u001b[0m\u001b[0;34m\u001b[0m\u001b[0;34m\u001b[0m\u001b[0m\n\u001b[1;32m    533\u001b[0m \u001b[0;34m\u001b[0m\u001b[0m\n\u001b[0;32m--> 534\u001b[0;31m       \u001b[0mself\u001b[0m\u001b[0;34m.\u001b[0m\u001b[0m_validate_compile\u001b[0m\u001b[0;34m(\u001b[0m\u001b[0moptimizer\u001b[0m\u001b[0;34m,\u001b[0m \u001b[0mmetrics\u001b[0m\u001b[0;34m,\u001b[0m \u001b[0;34m**\u001b[0m\u001b[0mkwargs\u001b[0m\u001b[0;34m)\u001b[0m\u001b[0;34m\u001b[0m\u001b[0;34m\u001b[0m\u001b[0m\n\u001b[0m\u001b[1;32m    535\u001b[0m       \u001b[0mself\u001b[0m\u001b[0;34m.\u001b[0m\u001b[0m_run_eagerly\u001b[0m \u001b[0;34m=\u001b[0m \u001b[0mrun_eagerly\u001b[0m\u001b[0;34m\u001b[0m\u001b[0;34m\u001b[0m\u001b[0m\n\u001b[1;32m    536\u001b[0m \u001b[0;34m\u001b[0m\u001b[0m\n",
            "\u001b[0;32m/usr/local/lib/python3.6/dist-packages/tensorflow/python/keras/engine/training.py\u001b[0m in \u001b[0;36m_validate_compile\u001b[0;34m(self, optimizer, metrics, **kwargs)\u001b[0m\n\u001b[1;32m   2518\u001b[0m     \u001b[0;32mif\u001b[0m \u001b[0minvalid_kwargs\u001b[0m\u001b[0;34m:\u001b[0m\u001b[0;34m\u001b[0m\u001b[0;34m\u001b[0m\u001b[0m\n\u001b[1;32m   2519\u001b[0m       raise TypeError('Invalid keyword argument(s) in `compile`: %s' %\n\u001b[0;32m-> 2520\u001b[0;31m                       (invalid_kwargs,))\n\u001b[0m\u001b[1;32m   2521\u001b[0m \u001b[0;34m\u001b[0m\u001b[0m\n\u001b[1;32m   2522\u001b[0m     \u001b[0;31m# Model must be created and compiled with the same DistStrat.\u001b[0m\u001b[0;34m\u001b[0m\u001b[0;34m\u001b[0m\u001b[0;34m\u001b[0m\u001b[0m\n",
            "\u001b[0;31mTypeError\u001b[0m: Invalid keyword argument(s) in `compile`: {'batch_size'}"
          ]
        }
      ]
    },
    {
      "cell_type": "code",
      "metadata": {
        "colab": {
          "base_uri": "https://localhost:8080/"
        },
        "id": "iMTkzba644_b",
        "outputId": "0ca6635a-9dd9-4a51-b292-1c735e5911a0"
      },
      "source": [
        "history = model.fit(x_final_train, y_final_train,epochs=40,batch_size=10,validation_data=(x_final_val,y_final_val))"
      ],
      "execution_count": null,
      "outputs": [
        {
          "output_type": "stream",
          "text": [
            "Epoch 1/40\n",
            "350/350 [==============================] - 1s 3ms/step - loss: 0.1785 - binary_accuracy: 0.9357 - val_loss: 0.1998 - val_binary_accuracy: 0.9500\n",
            "Epoch 2/40\n",
            "350/350 [==============================] - 1s 2ms/step - loss: 0.1774 - binary_accuracy: 0.9357 - val_loss: 0.1586 - val_binary_accuracy: 0.9640\n",
            "Epoch 3/40\n",
            "350/350 [==============================] - 1s 2ms/step - loss: 0.1751 - binary_accuracy: 0.9394 - val_loss: 0.1885 - val_binary_accuracy: 0.9540\n",
            "Epoch 4/40\n",
            "350/350 [==============================] - 1s 2ms/step - loss: 0.1754 - binary_accuracy: 0.9414 - val_loss: 0.1651 - val_binary_accuracy: 0.9560\n",
            "Epoch 5/40\n",
            "350/350 [==============================] - 1s 2ms/step - loss: 0.1746 - binary_accuracy: 0.9409 - val_loss: 0.1690 - val_binary_accuracy: 0.9580\n",
            "Epoch 6/40\n",
            "350/350 [==============================] - 1s 2ms/step - loss: 0.1739 - binary_accuracy: 0.9400 - val_loss: 0.1407 - val_binary_accuracy: 0.9680\n",
            "Epoch 7/40\n",
            "350/350 [==============================] - 1s 2ms/step - loss: 0.1752 - binary_accuracy: 0.9394 - val_loss: 0.1598 - val_binary_accuracy: 0.9640\n",
            "Epoch 8/40\n",
            "350/350 [==============================] - 1s 3ms/step - loss: 0.1740 - binary_accuracy: 0.9386 - val_loss: 0.1630 - val_binary_accuracy: 0.9640\n",
            "Epoch 9/40\n",
            "350/350 [==============================] - 1s 2ms/step - loss: 0.1741 - binary_accuracy: 0.9400 - val_loss: 0.1938 - val_binary_accuracy: 0.9540\n",
            "Epoch 10/40\n",
            "350/350 [==============================] - 1s 3ms/step - loss: 0.1741 - binary_accuracy: 0.9397 - val_loss: 0.1483 - val_binary_accuracy: 0.9660\n",
            "Epoch 11/40\n",
            "350/350 [==============================] - 1s 2ms/step - loss: 0.1736 - binary_accuracy: 0.9400 - val_loss: 0.1639 - val_binary_accuracy: 0.9600\n",
            "Epoch 12/40\n",
            "350/350 [==============================] - 1s 3ms/step - loss: 0.1732 - binary_accuracy: 0.9397 - val_loss: 0.1502 - val_binary_accuracy: 0.9660\n",
            "Epoch 13/40\n",
            "350/350 [==============================] - 1s 3ms/step - loss: 0.1740 - binary_accuracy: 0.9411 - val_loss: 0.1973 - val_binary_accuracy: 0.9540\n",
            "Epoch 14/40\n",
            "350/350 [==============================] - 1s 2ms/step - loss: 0.1739 - binary_accuracy: 0.9391 - val_loss: 0.1390 - val_binary_accuracy: 0.9660\n",
            "Epoch 15/40\n",
            "350/350 [==============================] - 1s 2ms/step - loss: 0.1725 - binary_accuracy: 0.9389 - val_loss: 0.1620 - val_binary_accuracy: 0.9600\n",
            "Epoch 16/40\n",
            "350/350 [==============================] - 1s 2ms/step - loss: 0.1741 - binary_accuracy: 0.9409 - val_loss: 0.1724 - val_binary_accuracy: 0.9560\n",
            "Epoch 17/40\n",
            "350/350 [==============================] - 1s 2ms/step - loss: 0.1727 - binary_accuracy: 0.9403 - val_loss: 0.2019 - val_binary_accuracy: 0.9540\n",
            "Epoch 18/40\n",
            "350/350 [==============================] - 1s 2ms/step - loss: 0.1735 - binary_accuracy: 0.9440 - val_loss: 0.1918 - val_binary_accuracy: 0.9540\n",
            "Epoch 19/40\n",
            "350/350 [==============================] - 1s 2ms/step - loss: 0.1742 - binary_accuracy: 0.9400 - val_loss: 0.1263 - val_binary_accuracy: 0.9780\n",
            "Epoch 20/40\n",
            "350/350 [==============================] - 1s 2ms/step - loss: 0.1739 - binary_accuracy: 0.9414 - val_loss: 0.1476 - val_binary_accuracy: 0.9640\n",
            "Epoch 21/40\n",
            "350/350 [==============================] - 1s 3ms/step - loss: 0.1737 - binary_accuracy: 0.9394 - val_loss: 0.1421 - val_binary_accuracy: 0.9660\n",
            "Epoch 22/40\n",
            "350/350 [==============================] - 1s 3ms/step - loss: 0.1731 - binary_accuracy: 0.9403 - val_loss: 0.1908 - val_binary_accuracy: 0.9560\n",
            "Epoch 23/40\n",
            "350/350 [==============================] - 1s 3ms/step - loss: 0.1727 - binary_accuracy: 0.9426 - val_loss: 0.1462 - val_binary_accuracy: 0.9640\n",
            "Epoch 24/40\n",
            "350/350 [==============================] - 1s 2ms/step - loss: 0.1735 - binary_accuracy: 0.9414 - val_loss: 0.1555 - val_binary_accuracy: 0.9620\n",
            "Epoch 25/40\n",
            "350/350 [==============================] - 1s 2ms/step - loss: 0.1729 - binary_accuracy: 0.9380 - val_loss: 0.1564 - val_binary_accuracy: 0.9620\n",
            "Epoch 26/40\n",
            "350/350 [==============================] - 1s 3ms/step - loss: 0.1724 - binary_accuracy: 0.9429 - val_loss: 0.1949 - val_binary_accuracy: 0.9540\n",
            "Epoch 27/40\n",
            "350/350 [==============================] - 1s 3ms/step - loss: 0.1731 - binary_accuracy: 0.9426 - val_loss: 0.1657 - val_binary_accuracy: 0.9560\n",
            "Epoch 28/40\n",
            "350/350 [==============================] - 1s 2ms/step - loss: 0.1734 - binary_accuracy: 0.9403 - val_loss: 0.1685 - val_binary_accuracy: 0.9600\n",
            "Epoch 29/40\n",
            "350/350 [==============================] - 1s 3ms/step - loss: 0.1732 - binary_accuracy: 0.9409 - val_loss: 0.1654 - val_binary_accuracy: 0.9580\n",
            "Epoch 30/40\n",
            "350/350 [==============================] - 1s 3ms/step - loss: 0.1731 - binary_accuracy: 0.9409 - val_loss: 0.1724 - val_binary_accuracy: 0.9600\n",
            "Epoch 31/40\n",
            "350/350 [==============================] - 1s 4ms/step - loss: 0.1723 - binary_accuracy: 0.9391 - val_loss: 0.1795 - val_binary_accuracy: 0.9540\n",
            "Epoch 32/40\n",
            "350/350 [==============================] - 1s 3ms/step - loss: 0.1722 - binary_accuracy: 0.9394 - val_loss: 0.1497 - val_binary_accuracy: 0.9620\n",
            "Epoch 33/40\n",
            "350/350 [==============================] - 1s 3ms/step - loss: 0.1734 - binary_accuracy: 0.9411 - val_loss: 0.1703 - val_binary_accuracy: 0.9580\n",
            "Epoch 34/40\n",
            "350/350 [==============================] - 1s 3ms/step - loss: 0.1729 - binary_accuracy: 0.9417 - val_loss: 0.1449 - val_binary_accuracy: 0.9660\n",
            "Epoch 35/40\n",
            "350/350 [==============================] - 1s 3ms/step - loss: 0.1728 - binary_accuracy: 0.9429 - val_loss: 0.1812 - val_binary_accuracy: 0.9580\n",
            "Epoch 36/40\n",
            "350/350 [==============================] - 1s 3ms/step - loss: 0.1732 - binary_accuracy: 0.9391 - val_loss: 0.1566 - val_binary_accuracy: 0.9620\n",
            "Epoch 37/40\n",
            "350/350 [==============================] - 1s 3ms/step - loss: 0.1720 - binary_accuracy: 0.9409 - val_loss: 0.1711 - val_binary_accuracy: 0.9600\n",
            "Epoch 38/40\n",
            "350/350 [==============================] - 1s 3ms/step - loss: 0.1721 - binary_accuracy: 0.9417 - val_loss: 0.1703 - val_binary_accuracy: 0.9580\n",
            "Epoch 39/40\n",
            "350/350 [==============================] - 1s 3ms/step - loss: 0.1726 - binary_accuracy: 0.9406 - val_loss: 0.1845 - val_binary_accuracy: 0.9540\n",
            "Epoch 40/40\n",
            "350/350 [==============================] - 1s 3ms/step - loss: 0.1718 - binary_accuracy: 0.9429 - val_loss: 0.1435 - val_binary_accuracy: 0.9640\n"
          ],
          "name": "stdout"
        }
      ]
    },
    {
      "cell_type": "code",
      "metadata": {
        "colab": {
          "base_uri": "https://localhost:8080/"
        },
        "id": "wn55miGzRs8i",
        "outputId": "a50b2764-e74c-4c47-caa3-0a29bfc1b1b9"
      },
      "source": [
        "test_loss, test_accuracy = model.evaluate(x_test, y_test)"
      ],
      "execution_count": null,
      "outputs": [
        {
          "output_type": "stream",
          "text": [
            "19/19 [==============================] - 0s 1ms/step - loss: 2.9157 - binary_accuracy: 0.7770\n"
          ],
          "name": "stdout"
        }
      ]
    },
    {
      "cell_type": "code",
      "metadata": {
        "id": "4XxezdJtRfgz"
      },
      "source": [
        "model.save('AS1_Problem3.h5')"
      ],
      "execution_count": null,
      "outputs": []
    },
    {
      "cell_type": "code",
      "metadata": {
        "colab": {
          "base_uri": "https://localhost:8080/",
          "height": 313
        },
        "id": "oaQciLgVkzu3",
        "outputId": "220a3155-5962-46c6-9516-cbd0de65aa12"
      },
      "source": [
        "plt.plot(history.history['binary_accuracy'], label='test accuracy')\r\n",
        "plt.plot(history.history['val_binary_accuracy'], label='validation accuracy')\r\n",
        "plt.title('model accuracy')\r\n",
        "plt.ylabel('accuracy')\r\n",
        "plt.xlabel('epoch')"
      ],
      "execution_count": null,
      "outputs": [
        {
          "output_type": "execute_result",
          "data": {
            "text/plain": [
              "Text(0.5, 0, 'epoch')"
            ]
          },
          "metadata": {
            "tags": []
          },
          "execution_count": 188
        },
        {
          "output_type": "display_data",
          "data": {
            "image/png": "[encoded data removed]",
            "text/plain": [
              "<Figure size 432x288 with 1 Axes>"
            ]
          },
          "metadata": {
            "tags": [],
            "needs_background": "light"
          }
        }
      ]
    },
    {
      "cell_type": "code",
      "metadata": {
        "colab": {
          "base_uri": "https://localhost:8080/",
          "height": 313
        },
        "id": "8rWTm82XlEAg",
        "outputId": "c4dcb973-bb6e-41d2-fed1-7dd1d7016a35"
      },
      "source": [
        "plt.plot(history.history['loss'])\r\n",
        "plt.plot(history.history['val_loss'])\r\n",
        "plt.title('training and validation loss')\r\n",
        "plt.ylabel('loss')\r\n",
        "plt.xlabel('epochs')"
      ],
      "execution_count": null,
      "outputs": [
        {
          "output_type": "execute_result",
          "data": {
            "text/plain": [
              "Text(0.5, 0, 'epochs')"
            ]
          },
          "metadata": {
            "tags": []
          },
          "execution_count": 189
        },
        {
          "output_type": "display_data",
          "data": {
            "image/png": "[encoded data removed]",
            "text/plain": [
              "<Figure size 432x288 with 1 Axes>"
            ]
          },
          "metadata": {
            "tags": [],
            "needs_background": "light"
          }
        }
      ]
    },
    {
      "cell_type": "code",
      "metadata": {
        "id": "jkMWI0jzmgOQ"
      },
      "source": [
        ""
      ],
      "execution_count": null,
      "outputs": []
    }
  ]
}